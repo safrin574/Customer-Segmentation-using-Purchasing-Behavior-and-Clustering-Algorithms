{
 "cells": [
  {
   "cell_type": "markdown",
   "metadata": {},
   "source": [
    "# **Customer Segmentation using Purchasing Behavior and Clustering Algorithms**"
   ]
  },
  {
   "cell_type": "code",
   "execution_count": null,
   "metadata": {},
   "outputs": [],
   "source": [
    "import pandas as pd\n",
    "import numpy as np\n",
    "from sklearn.cluster import KMeans\n",
    "from sklearn.preprocessing import StandardScaler\n",
    "from sklearn.metrics import silhouette_score\n",
    "from sklearn.decomposition import PCA\n",
    "import matplotlib.pyplot as plt\n",
    "import seaborn as sns\n",
    "import plotly.express as px\n",
    "from google.colab import files\n",
    "import ipywidgets as widgets\n",
    "from IPython.display import display, clear_output"
   ]
  },
  {
   "cell_type": "code",
   "execution_count": null,
   "metadata": {},
   "outputs": [],
   "source": [
    "print(\"Please upload 'customer_segmentation_dataset.csv'\")\n",
    "uploaded = files.upload()\n",
    "data = pd.read_csv('customer_segmentation_dataset.csv')\n",
    "data.head(30)"
   ]
  },
  {
   "cell_type": "code",
   "execution_count": null,
   "metadata": {},
   "outputs": [],
   "source": [
    "features = ['Frequency', 'MonetaryValue', 'Recency']\n",
    "X = data[features].fillna(0)\n",
    "scaler = StandardScaler()\n",
    "X_scaled = scaler.fit_transform(X)\n",
    "print(\"Scaled Features (first 10 rows):\\n\", X_scaled[:10])"
   ]
  },
  {
   "cell_type": "code",
   "execution_count": null,
   "metadata": {},
   "outputs": [],
   "source": [
    "inertia = []\n",
    "silhouette_scores = []\n",
    "K = range(2, 10)\n",
    "for k in K:\n",
    "    kmeans = KMeans(n_clusters=k, random_state=42)\n",
    "    kmeans.fit(X_scaled)\n",
    "    inertia.append(kmeans.inertia_)\n",
    "    if k > 1:\n",
    "        score = silhouette_score(X_scaled, kmeans.labels_)\n",
    "        silhouette_scores.append(score)\n",
    "    else:\n",
    "        silhouette_scores.append(0)\n",
    "\n",
    "plt.figure(figsize=(10, 6))\n",
    "plt.plot(K, inertia, marker='o', label='Inertia')\n",
    "plt.title('Elbow Method for Optimal Number of Clusters')\n",
    "plt.xlabel('Number of Clusters (k)')\n",
    "plt.ylabel('Inertia')\n",
    "plt.grid(True)\n",
    "plt.show()"
   ]
  },
  {
   "cell_type": "code",
   "execution_count": null,
   "metadata": {},
   "outputs": [],
   "source": [
    "plt.figure(figsize=(10, 6))\n",
    "plt.plot(K[1:], silhouette_scores[1:], marker='o', label='Silhouette Score')\n",
    "plt.title('Silhouette Score for Different Numbers of Clusters')\n",
    "plt.xlabel('Number of Clusters (k)')\n",
    "plt.ylabel('Silhouette Score')\n",
    "plt.grid(True)\n",
    "plt.show()"
   ]
  },
  {
   "cell_type": "code",
   "execution_count": null,
   "metadata": {},
   "outputs": [],
   "source": [
    "optimal_k = 4\n",
    "kmeans = KMeans(n_clusters=optimal_k, random_state=42)\n",
    "data['Cluster'] = kmeans.fit_predict(X_scaled)\n",
    "\n",
    "pca = PCA(n_components=3)\n",
    "X_pca = pca.fit_transform(X_scaled)\n",
    "data['PCA1'] = X_pca[:, 0]\n",
    "data['PCA2'] = X_pca[:, 1]\n",
    "data['PCA3'] = X_pca[:, 2]\n",
    "\n",
    "fig = px.scatter_3d(data, x='PCA1', y='PCA2', z='PCA3', color='Cluster',\n",
    "                    hover_data=['CustomerID', 'Frequency', 'MonetaryValue', 'Recency'],\n",
    "                    title='3D Customer Segments (PCA)')\n",
    "fig.update_layout(width=800, height=600)\n",
    "fig.show()"
   ]
  },
  {
   "cell_type": "code",
   "execution_count": null,
   "metadata": {},
   "outputs": [],
   "source": [
    "cluster_stats = data.groupby('Cluster').agg({\n",
    "    'Frequency': 'mean',\n",
    "    'MonetaryValue': 'mean',\n",
    "    'Recency': 'mean',\n",
    "    'CustomerID': 'count',\n",
    "    'ProductCategory': lambda x: x.mode()[0]\n",
    "}).rename(columns={'CustomerID': 'Count'}).round(2)\n",
    "\n",
    "plt.figure(figsize=(12, 8))\n",
    "sns.scatterplot(data=data, x='Frequency', y='MonetaryValue', hue='Cluster',\n",
    "                size='Recency', sizes=(50, 500), palette='deep')\n",
    "plt.title('Customer Segments: Frequency vs Monetary Value (Recency as Size)')\n",
    "plt.xlabel('Frequency (Number of Purchases)')\n",
    "plt.ylabel('Monetary Value ($)')\n",
    "plt.legend(title='Cluster')\n",
    "plt.show()"
   ]
  },
  {
   "cell_type": "code",
   "execution_count": null,
   "metadata": {},
   "outputs": [],
   "source": [
    "plt.figure(figsize=(12, 8))\n",
    "sns.countplot(data=data, x='Cluster', hue='ProductCategory', palette='muted')\n",
    "plt.title('Product Category Distribution by Cluster')\n",
    "plt.xlabel('Cluster')\n",
    "plt.ylabel('Count')\n",
    "plt.legend(title='Product Category')\n",
    "plt.show()"
   ]
  },
  {
   "cell_type": "code",
   "execution_count": null,
   "metadata": {},
   "outputs": [],
   "source": [
    "print(\"\\nCluster Statistics:\")\n",
    "print(cluster_stats)\n",
    "print(f\"\\nSilhouette Score for k={optimal_k}: {silhouette_score(X_scaled, kmeans.labels_):.3f}\")\n"
   ]
  },
  {
   "cell_type": "code",
   "execution_count": null,
   "metadata": {},
   "outputs": [],
   "source": [
    "high_value_sports = data[(data['ProductCategory'] == 'Sports') &\n",
    "                        (data['Frequency'] > 15) &\n",
    "                        (data['MonetaryValue'] > 500)].shape[0]\n",
    "print(f\"\\nInteresting Fact: {high_value_sports} customers in the Sports category are high-frequency buyers (more than 15 purchases) with high spending (over $500).\")\n"
   ]
  },
  {
   "cell_type": "code",
   "execution_count": null,
   "metadata": {},
   "outputs": [],
   "source": [
    "def predict_cluster(frequency, monetary_value, recency):\n",
    "    new_data = np.array([[frequency, monetary_value, recency]])\n",
    "    new_data_scaled = scaler.transform(new_data)\n",
    "    cluster = kmeans.predict(new_data_scaled)[0]\n",
    "    print(f\"\\nPredicted Cluster for new customer (Frequency: {frequency}, MonetaryValue: {monetary_value}, Recency: {recency}): Cluster {cluster}\")"
   ]
  },
  {
   "cell_type": "code",
   "execution_count": null,
   "metadata": {},
   "outputs": [],
   "source": [
    "freq_input = widgets.FloatText(description=\"Frequency:\", value=10)\n",
    "monetary_input = widgets.FloatText(description=\"Monetary Value ($):\", value=200)\n",
    "recency_input = widgets.FloatText(description=\"Recency (days):\", value=100)\n",
    "predict_button = widgets.Button(description=\"Predict Cluster\")\n",
    "output = widgets.Output()\n",
    "\n",
    "def on_button_clicked(b):\n",
    "    with output:\n",
    "        clear_output()\n",
    "        predict_cluster(freq_input.value, monetary_input.value, recency_input.value)\n",
    "\n",
    "predict_button.on_click(on_button_clicked)\n",
    "\n",
    "print(\"\\nEnter new customer data to predict their cluster:\")\n",
    "display(freq_input, monetary_input, recency_input, predict_button, output)"
   ]
  },
  {
   "cell_type": "code",
   "execution_count": null,
   "metadata": {},
   "outputs": [],
   "source": [
    "data.to_csv('clustered_customer_data_enhanced.csv', index=False)\n",
    "print(\"\\nClustered data saved to 'clustered_customer_data_enhanced.csv'\")\n",
    "files.download('clustered_customer_data_enhanced.csv')\n",
    "\n",
    "print(\"\\nSummary:\")\n",
    "print(f\"K-means clustering with {optimal_k} clusters was performed on Frequency, Monetary Value, and Recency.\")\n",
    "print(\"Key enhancements:\")\n",
    "print(\"- Hyperparameter tuning with elbow method and silhouette score.\")\n",
    "print(\"- 3D visualization using PCA for better cluster separation.\")\n",
    "print(\"- Interactive interface for predicting cluster membership of new customers.\")\n",
    "print(\"- High-frequency, high-value Sports customers identified as a key segment.\")\n",
    "print(\"The silhouette score indicates good cluster separation, and the category distribution plot highlights product preferences.\")"
   ]
  }
 ],
 "metadata": {},
 "nbformat": 4,
 "nbformat_minor": 0
}
